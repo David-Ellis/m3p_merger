{
 "cells": [
  {
   "cell_type": "code",
   "execution_count": 1,
   "metadata": {},
   "outputs": [],
   "source": [
    "import numpy as np\n",
    "import matplotlib.pyplot as plt\n",
    "from scipy.integrate import odeint\n",
    "from scipy.interpolate import interp1d\n",
    "\n",
    "import matplotlib\n",
    "matplotlib.rcParams['mathtext.fontset'] = 'stix'\n",
    "matplotlib.rcParams['font.family'] = 'STIXGeneral'\n",
    "matplotlib.rc('font', size=18)\n",
    "\n",
    "# cosmologies \n",
    "planck2015 = [0.6911, 0.3089, 9.16e-5]\n",
    "noDE = [0.0,0.3089,9.16e-5]"
   ]
  },
  {
   "cell_type": "markdown",
   "metadata": {},
   "source": [
    "## Linear evolution"
   ]
  },
  {
   "cell_type": "code",
   "execution_count": 2,
   "metadata": {},
   "outputs": [
    {
     "data": {
      "image/png": "[encoded data removed]",
      "text/plain": [
       "<Figure size 432x288 with 1 Axes>"
      ]
     },
     "metadata": {
      "needs_background": "light"
     },
     "output_type": "display_data"
    }
   ],
   "source": [
    "def Omega(a, cosmology):\n",
    "    rel_lam, rel_mat, rel_rad = cosmology\n",
    "    return rel_lam + rel_mat*a**(-3) + rel_rad*a**(-4)\n",
    "\n",
    "def Omega_matter(a, cosmology):\n",
    "    rel_lam, rel_mat, rel_rad = cosmology\n",
    "    return rel_mat*a**(-3)\n",
    "\n",
    "def dOmegada(a, cosmology):\n",
    "    rel_lam, rel_mat, rel_rad = cosmology\n",
    "    return -3*rel_mat*a**(-4) - 4*rel_rad*a**(-5)\n",
    "\n",
    "def sigma(a, cosmology):\n",
    "    return (0.5*dOmegada(a, cosmology)/Omega(a, cosmology) + 3/a)\n",
    "\n",
    "def linearODE(y, a, cosmology):\n",
    "    delta, chi = y\n",
    "    A = 3/(2*a**2) * Omega_matter(a, cosmology)/Omega(a, cosmology)\n",
    "    dchi =  A*delta - sigma(a, cosmology)*chi\n",
    "    return [chi, dchi]\n",
    "\n",
    "def calculateGrowthFactor(a, cosmology):\n",
    "    y0 = [1,0]\n",
    "    psoln = odeint(linearODE, y0, a, args=(cosmology,))\n",
    "    growthFactor = psoln[:,0]\n",
    "    \n",
    "    return growthFactor\n",
    "\n",
    "a = np.logspace(-5, 1, 100)\n",
    "x = a/(planck2015[2]/planck2015[1])\n",
    "plt.loglog(x, calculateGrowthFactor(a,planck2015), label = \"$\\Omega_{\\Lambda} = \\Omega_{\\Lambda}$\", lw = 2)\n",
    "plt.loglog(x, calculateGrowthFactor(a,noDE), \"--\", label = \"$\\Omega_{\\Lambda} = 0$\", lw = 2)\n",
    "plt.xlabel(\"$x$\")\n",
    "plt.ylabel(\"Growth factor, $D(x)$\")\n",
    "plt.legend();"
   ]
  },
  {
   "cell_type": "markdown",
   "metadata": {},
   "source": [
    "## Non-linear Evolution"
   ]
  },
  {
   "cell_type": "code",
   "execution_count": 3,
   "metadata": {},
   "outputs": [],
   "source": [
    "def nonlinearODE(y, x, delta_i, cosmology, tol, verbose = 0):\n",
    "    Omega_L, Omega_M, Omega_R = cosmology\n",
    "    \n",
    "    R, dRdx = y\n",
    "    \n",
    "    omega = Omega_L*Omega_R**3/Omega_M**4\n",
    "    \n",
    "    A = x*(x+1+omega*x**4)\n",
    "    B = 0.5*(1-omega*x**3)\n",
    "    C = -(3/2*x + 1 + 3*omega*x**4)\n",
    "    \n",
    "        \n",
    "    if R > tol:\n",
    "        d2Rdx2 =  1/A*(-0.5*(1+delta_i)/R**2 + B*R + C*dRdx)\n",
    "    else:\n",
    "        d2Rdx2 =  0\n",
    "        dRdx = 0\n",
    "\n",
    "    return [dRdx, d2Rdx2]\n",
    "\n",
    "def find_collapse(x, phis, cosmology, tol):\n",
    "    xcol = np.zeros(len(phis))\n",
    "    mask = np.ones(len(phis), dtype=bool)\n",
    "    for i, phi in enumerate(phis):\n",
    "        y0 = [1, 0]\n",
    "        psoln = odeint(nonlinearODE, y0, x, args=(phi, cosmology,  tol, 0))\n",
    "        R = psoln[:,0];\n",
    "        \n",
    "        if sum(R<=tol) > 0:\n",
    "            R[R<=tol] = 0\n",
    "            xcol[i] = max(x[R>0])\n",
    "            if xcol[i] == 0:\n",
    "                print(\"Error: xcol[i] == 0\\nInfo: delta_i = {:.3}, cosmology = {}\".format(phi, cosmology))\n",
    "        else:\n",
    "            mask[i] = False\n",
    "            #print(\"FALSE!\")\n",
    "    \n",
    "    return xcol, mask\n"
   ]
  },
  {
   "cell_type": "code",
   "execution_count": 4,
   "metadata": {},
   "outputs": [
    {
     "name": "stderr",
     "output_type": "stream",
     "text": [
      "C:\\Users\\David\\anaconda3\\lib\\site-packages\\scipy\\integrate\\odepack.py:248: ODEintWarning: Excess work done on this call (perhaps wrong Dfun type). Run with full_output = 1 to get quantitative information.\n",
      "  warnings.warn(warning_msg, ODEintWarning)\n"
     ]
    },
    {
     "ename": "KeyboardInterrupt",
     "evalue": "",
     "output_type": "error",
     "traceback": [
      "\u001b[1;31m---------------------------------------------------------------------------\u001b[0m",
      "\u001b[1;31mKeyboardInterrupt\u001b[0m                         Traceback (most recent call last)",
      "\u001b[1;32m<ipython-input-4-1f103b72033e>\u001b[0m in \u001b[0;36m<module>\u001b[1;34m\u001b[0m\n\u001b[0;32m      4\u001b[0m \u001b[1;33m\u001b[0m\u001b[0m\n\u001b[0;32m      5\u001b[0m \u001b[0mxcol1\u001b[0m\u001b[1;33m,\u001b[0m \u001b[0mmask1\u001b[0m \u001b[1;33m=\u001b[0m \u001b[0mfind_collapse\u001b[0m\u001b[1;33m(\u001b[0m\u001b[0mx\u001b[0m\u001b[1;33m,\u001b[0m \u001b[0mphis\u001b[0m\u001b[1;33m,\u001b[0m \u001b[0mplanck2015\u001b[0m\u001b[1;33m,\u001b[0m \u001b[0mtol\u001b[0m\u001b[1;33m)\u001b[0m\u001b[1;33m\u001b[0m\u001b[1;33m\u001b[0m\u001b[0m\n\u001b[1;32m----> 6\u001b[1;33m \u001b[0mxcol2\u001b[0m\u001b[1;33m,\u001b[0m \u001b[0mmask2\u001b[0m \u001b[1;33m=\u001b[0m \u001b[0mfind_collapse\u001b[0m\u001b[1;33m(\u001b[0m\u001b[0mx\u001b[0m\u001b[1;33m,\u001b[0m \u001b[0mphis\u001b[0m\u001b[1;33m,\u001b[0m \u001b[0mnoDE\u001b[0m\u001b[1;33m,\u001b[0m \u001b[0mtol\u001b[0m\u001b[1;33m)\u001b[0m\u001b[1;33m\u001b[0m\u001b[1;33m\u001b[0m\u001b[0m\n\u001b[0m\u001b[0;32m      7\u001b[0m \u001b[0mplt\u001b[0m\u001b[1;33m.\u001b[0m\u001b[0mfigure\u001b[0m\u001b[1;33m(\u001b[0m\u001b[0mfigsize\u001b[0m \u001b[1;33m=\u001b[0m \u001b[1;33m(\u001b[0m\u001b[1;36m7\u001b[0m\u001b[1;33m,\u001b[0m\u001b[1;36m5\u001b[0m\u001b[1;33m)\u001b[0m\u001b[1;33m)\u001b[0m\u001b[1;33m\u001b[0m\u001b[1;33m\u001b[0m\u001b[0m\n\u001b[0;32m      8\u001b[0m \u001b[0mplt\u001b[0m\u001b[1;33m.\u001b[0m\u001b[0msemilogx\u001b[0m\u001b[1;33m(\u001b[0m\u001b[0mphis\u001b[0m\u001b[1;33m[\u001b[0m\u001b[0mmask1\u001b[0m\u001b[1;33m]\u001b[0m\u001b[1;33m,\u001b[0m \u001b[0mphis\u001b[0m\u001b[1;33m[\u001b[0m\u001b[0mmask1\u001b[0m\u001b[1;33m]\u001b[0m\u001b[1;33m*\u001b[0m\u001b[0mxcol1\u001b[0m\u001b[1;33m[\u001b[0m\u001b[0mmask1\u001b[0m\u001b[1;33m]\u001b[0m\u001b[1;33m,\u001b[0m \u001b[0mlw\u001b[0m \u001b[1;33m=\u001b[0m \u001b[1;36m2\u001b[0m\u001b[1;33m,\u001b[0m \u001b[0mlabel\u001b[0m \u001b[1;33m=\u001b[0m \u001b[1;34m\"$\\Omega_{\\Lambda} = \\Omega_{\\Lambda}$\"\u001b[0m\u001b[1;33m)\u001b[0m\u001b[1;33m\u001b[0m\u001b[1;33m\u001b[0m\u001b[0m\n",
      "\u001b[1;32m<ipython-input-3-681715b5b28a>\u001b[0m in \u001b[0;36mfind_collapse\u001b[1;34m(x, phis, cosmology, tol)\u001b[0m\n\u001b[0;32m     28\u001b[0m \u001b[1;33m\u001b[0m\u001b[0m\n\u001b[0;32m     29\u001b[0m         \u001b[1;32mif\u001b[0m \u001b[0msum\u001b[0m\u001b[1;33m(\u001b[0m\u001b[0mR\u001b[0m\u001b[1;33m<=\u001b[0m\u001b[0mtol\u001b[0m\u001b[1;33m)\u001b[0m \u001b[1;33m>\u001b[0m \u001b[1;36m0\u001b[0m\u001b[1;33m:\u001b[0m\u001b[1;33m\u001b[0m\u001b[1;33m\u001b[0m\u001b[0m\n\u001b[1;32m---> 30\u001b[1;33m             \u001b[0mR\u001b[0m\u001b[1;33m[\u001b[0m\u001b[0mR\u001b[0m\u001b[1;33m<=\u001b[0m\u001b[0mtol\u001b[0m\u001b[1;33m]\u001b[0m \u001b[1;33m=\u001b[0m \u001b[1;36m0\u001b[0m\u001b[1;33m\u001b[0m\u001b[1;33m\u001b[0m\u001b[0m\n\u001b[0m\u001b[0;32m     31\u001b[0m             \u001b[0mxcol\u001b[0m\u001b[1;33m[\u001b[0m\u001b[0mi\u001b[0m\u001b[1;33m]\u001b[0m \u001b[1;33m=\u001b[0m \u001b[0mmax\u001b[0m\u001b[1;33m(\u001b[0m\u001b[0mx\u001b[0m\u001b[1;33m[\u001b[0m\u001b[0mR\u001b[0m\u001b[1;33m>\u001b[0m\u001b[1;36m0\u001b[0m\u001b[1;33m]\u001b[0m\u001b[1;33m)\u001b[0m\u001b[1;33m\u001b[0m\u001b[1;33m\u001b[0m\u001b[0m\n\u001b[0;32m     32\u001b[0m             \u001b[1;32mif\u001b[0m \u001b[0mxcol\u001b[0m\u001b[1;33m[\u001b[0m\u001b[0mi\u001b[0m\u001b[1;33m]\u001b[0m \u001b[1;33m==\u001b[0m \u001b[1;36m0\u001b[0m\u001b[1;33m:\u001b[0m\u001b[1;33m\u001b[0m\u001b[1;33m\u001b[0m\u001b[0m\n",
      "\u001b[1;31mKeyboardInterrupt\u001b[0m: "
     ]
    }
   ],
   "source": [
    "x = np.logspace(-6, 5, int(1e5))\n",
    "phis = np.logspace(-3.5, 2, 100)\n",
    "tol = 1e-5\n",
    "\n",
    "xcol1, mask1 = find_collapse(x, phis, planck2015, tol)\n",
    "xcol2, mask2 = find_collapse(x, phis, noDE, tol)\n",
    "plt.figure(figsize = (7,5))\n",
    "plt.semilogx(phis[mask1], phis[mask1]*xcol1[mask1], lw = 2, label = \"$\\Omega_{\\Lambda} = \\Omega_{\\Lambda}$\")\n",
    "plt.semilogx(phis[mask2], phis[mask2]*xcol2[mask2], \"--\", lw = 2, label = \"$\\Omega_{\\Lambda} = 0$\")\n",
    "plt.ylabel(\"$C_{col}(\\delta_i) = \\delta_i x_{col}$\")\n",
    "plt.xlabel(\"$\\delta_i$\")\n",
    "plt.ylim(1.05, 1.2)\n",
    "plt.legend();"
   ]
  },
  {
   "cell_type": "markdown",
   "metadata": {},
   "source": [
    "## Combining"
   ]
  },
  {
   "cell_type": "code",
   "execution_count": null,
   "metadata": {},
   "outputs": [],
   "source": [
    "def calcThreshDensity(x, deltas, cosmology, tol = 1e-3):\n",
    "    \n",
    "    a_eq = cosmology[2]/cosmology[1]\n",
    "    a = x*a_eq\n",
    "    \n",
    "    growthFactor = calculateGrowthFactor(a, cosmology)\n",
    "    #print(\"x = [{:.3}, {:.3}]\".format(min(x), max(x)))\n",
    "    D = interp1d(x, growthFactor)\n",
    "    \n",
    "    xcol, mask = find_collapse(x, deltas, cosmology, tol)\n",
    "    #print(\"xcol = [{:.3}, {:.3}]\".format(min(xcol[mask]), max(xcol[mask])))\n",
    "    \n",
    "    #print(xcol[mask])\n",
    "    \n",
    "    threshDens = deltas[mask]*D(xcol[mask])\n",
    "    \n",
    "    return threshDens, xcol[mask], D(xcol[mask]), mask"
   ]
  },
  {
   "cell_type": "code",
   "execution_count": null,
   "metadata": {},
   "outputs": [],
   "source": [
    "x0 = 1/a_eq\n",
    "\n",
    "xtest = np.logspace(-7, np.log10(x0), int(1e5))\n",
    "deltas = np.logspace(-3.6, 2, 200)\n",
    "\n",
    "delta_c1, x1, growth1, mask1 = calcThreshDensity(xtest, deltas, planck2015)\n",
    "delta_c2, x2, growth2, mask2 = calcThreshDensity(xtest, deltas, noDE)"
   ]
  },
  {
   "cell_type": "code",
   "execution_count": null,
   "metadata": {},
   "outputs": [],
   "source": [
    "plt.figure(figsize = (7,5))\n",
    "plt.loglog(x1, delta_c1, label = \"$\\Omega_{\\Lambda} = \\Omega_{\\Lambda}$\", lw = 2)\n",
    "plt.loglog(x2, delta_c2, \"--\",label = \"$\\Omega_{\\Lambda} = 0$\", lw = 2)\n",
    "\n",
    "oldGrth = 1+3/2*x1\n",
    "plt.loglog(x1, 1.686*oldGrth/(oldGrth-1), \":\",label = r\"$1.686\\frac{D(x)}{1+D(x)}$\", lw = 2)\n",
    "plt.ylabel(\"Critical Density, $\\delta_c(x)$\")\n",
    "plt.xlabel(\"$x$\")\n",
    "plt.legend()\n",
    "plt.show()\n",
    "\n",
    "plt.figure(figsize = (7,5))\n",
    "plt.loglog(x1, growth1, label = \"$\\Omega_{\\Lambda} = \\Omega_{\\Lambda}$\", lw = 2)\n",
    "plt.loglog(x2, growth2, \"--\",label = \"$\\Omega_{\\Lambda} = 0$\", lw = 2)\n",
    "plt.ylabel(\"Growth Factor, $D(x)$\")\n",
    "plt.xlabel(\"$x$\")\n",
    "plt.legend()\n",
    "plt.show()\n",
    "\n",
    "plt.figure(figsize = (7,5))\n",
    "plt.semilogx(deltas[mask1], x1*deltas[mask1], label = \"$\\Omega_{\\Lambda} = \\Omega_{\\Lambda}$\", lw = 2)\n",
    "plt.semilogx(deltas[mask2], x2*deltas[mask2], \"--\",label = \"$\\Omega_{\\Lambda} = 0$\", lw = 2)\n",
    "plt.ylabel(\"$C_{\\mathrm{col}} = x_{\\mathrm{col}} \\delta_{\\mathrm{i}}$\")\n",
    "plt.xlabel(\"$\\delta_{\\mathrm{i}}$\")\n",
    "plt.ylim([1.05, 1.2])\n",
    "plt.legend()"
   ]
  },
  {
   "cell_type": "code",
   "execution_count": null,
   "metadata": {},
   "outputs": [],
   "source": []
  }
 ],
 "metadata": {
  "kernelspec": {
   "display_name": "Python 3",
   "language": "python",
   "name": "python3"
  },
  "language_info": {
   "codemirror_mode": {
    "name": "ipython",
    "version": 3
   },
   "file_extension": ".py",
   "mimetype": "text/x-python",
   "name": "python",
   "nbconvert_exporter": "python",
   "pygments_lexer": "ipython3",
   "version": "3.7.6"
  }
 },
 "nbformat": 4,
 "nbformat_minor": 4
}
