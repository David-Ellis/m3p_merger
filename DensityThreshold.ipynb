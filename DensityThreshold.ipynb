{
 "cells": [
  {
   "cell_type": "code",
   "execution_count": 1,
   "metadata": {},
   "outputs": [],
   "source": [
    "import numpy as np\n",
    "from scipy.integrate import odeint\n",
    "import importlib\n",
    "import os\n",
    "from scipy.optimize import curve_fit\n",
    "\n",
    "import matplotlib.pyplot as plt\n",
    "import matplotlib.patches as patches\n",
    "import matplotlib\n",
    "matplotlib.rcParams['mathtext.fontset'] = 'stix'\n",
    "matplotlib.rcParams['font.family'] = 'STIXGeneral'\n",
    "matplotlib.rc('font', size=16)"
   ]
  },
  {
   "cell_type": "markdown",
   "metadata": {},
   "source": [
    "<center><h2>ODE and Solver</h2></center>\n",
    "\n",
    "From Kolb and Thachev (1994) the equation of motion for a spherical shell bounding a region of overdensity $\\Phi$ is given by\n",
    "\n",
    "\\begin{equation}\n",
    "    x(1+x)\\frac{d^2R}{dx^2} + \\Big(1 + \\frac{3}{2}x\\Big) +\\frac{1}{2}\\Big(\\frac{1+\\Phi}{R^2} - R\\Big) = 0\n",
    "\\end{equation}"
   ]
  },
  {
   "cell_type": "code",
   "execution_count": 18,
   "metadata": {},
   "outputs": [],
   "source": [
    "# Cosmological parameters\n",
    "Omega_m0 = 0.3\n",
    "Omega_r0 = 8.486e-5\n",
    "h = 0.7\n",
    "\n",
    "z_eq = Omega_m0/Omega_r0 - 1\n",
    "a_eq = 1/(1+z_eq)\n",
    "\n",
    "def KTode(y, x, params):\n",
    "    R, w = y\n",
    "    phi = params[0]\n",
    "    if R >= 0.001:\n",
    "        dwdx = -1/(x*(1+x))*((1 + 1.5*x)*w + 0.5*((1+phi)/R**2 - R))\n",
    "    else:\n",
    "        dwdx = 0\n",
    "    derivs = [w, dwdx]\n",
    "    return derivs\n",
    "\n",
    "def KTsolve(x, phis, y0 = [1,0]):\n",
    "    '''\n",
    "    Solves single shell spherical collapse\n",
    "    \n",
    "    x: array - scale factor a/a_eq\n",
    "    phis: array - overdensities\n",
    "    y0: list [Initial R, Initial dR/dx]\n",
    "    '''\n",
    "    index = np.arange(0, len(x))\n",
    "    R = np.zeros(len(phis), dtype='object'); xTA = np.zeros(len(phis)); RTA = np.zeros(len(phis))\n",
    "    for i in range(len(phis)):\n",
    "        params = [phis[i]]\n",
    "        psoln = odeint(KTode, y0, x, args=(params,))\n",
    "        R[i] = psoln[:,0]\n",
    "        mindex = np.where(psoln[:,0]*x == max(psoln[:,0]*x))[0][0]\n",
    "        #print(len(x), mindex)\n",
    "        xTA[i] = x[mindex]\n",
    "        RTA[i] = psoln[:,0][mindex]\n",
    "    return [R, xTA, RTA]"
   ]
  },
  {
   "cell_type": "code",
   "execution_count": 14,
   "metadata": {},
   "outputs": [],
   "source": [
    "phis = np.logspace(-8, 3, int(1e2))\n",
    "x = np.logspace(-10, 10, int(5e6))\n",
    "R, xTa, RTA = KTsolve(x, phis)\n",
    "\n",
    "xCol = np.zeros(len(R))\n",
    "for i in range(len(R)):\n",
    "    xCol[i] = max(x[R[i]>0])\n",
    "    \n",
    "# Need to rewrite this section to save the data and if it already exists then load."
   ]
  },
  {
   "cell_type": "code",
   "execution_count": 4,
   "metadata": {},
   "outputs": [
    {
     "name": "stdout",
     "output_type": "stream",
     "text": [
      "5.050911010182203\n"
     ]
    },
    {
     "data": {
      "image/png": "[encoded data removed]",
      "text/plain": [
       "<Figure size 432x324 with 1 Axes>"
      ]
     },
     "metadata": {},
     "output_type": "display_data"
    }
   ],
   "source": [
    "plt.figure(figsize = (6,4.5))\n",
    "plt.semilogx(phis, xCol*phis, lw = 3)\n",
    "plt.ylabel(\"$C_{\\mathrm{col}}(\\delta)$\")\n",
    "plt.xlabel(\"Overdensity $\\delta$\")\n",
    "plt.tight_layout()\n",
    "plt.savefig(\"CollapseConstant.pdf\")\n",
    "\n",
    "print(np.log10(max(xCol)))"
   ]
  },
  {
   "cell_type": "markdown",
   "metadata": {},
   "source": [
    "<center><h2>Linear growth solution</h2></center>\n",
    "\n",
    "For CDM in the presence of radiation\n",
    "\n",
    "\\begin{equation}\n",
    "    x^2(1+x^{-3w})\\frac{d^2\\delta}{dx^2} + \\frac{3}{2}x(1 + (1-w)x^{-3w})\\frac{d\\delta}{dx} - \\frac{3}{2}\\delta = 0.\n",
    "\\end{equation}\n",
    "\n",
    "Setting $w = 1/3$, the general solution is found to be\n",
    "\n",
    "\\begin{equation}\n",
    "    \\delta(x) = C_1\\Big(1+\\frac{3}{2}x\\Big) + C_2\\Big[\\Big(1 + \\frac{3}{2}x\\Big)\\ln\\frac{\\sqrt{1+x}+1}{\\sqrt{1+x}-1} - 3\\sqrt{1+x}\\Big],\n",
    "\\end{equation}\n",
    "\n",
    "where $C_1$ and $C_2$ are constants that are fixed by the initial conditions. \n",
    "\n",
    "Since we are considering a single isocurvature mode in the subhorizon limit the initial conditions are determined by\n",
    "\n",
    "\\begin{equation}\n",
    "    \\delta(t=0) = 1, \\\\\n",
    "    \\frac{d\\delta}{dt}\\Big|_{t=0} =0\n",
    "\\end{equation}\n",
    "\n",
    "and since\n",
    "\n",
    "\\begin{equation}\n",
    "    \\frac{d\\delta}{dt} = \\frac{d\\delta}{dx}H(x)x,\n",
    "\\end{equation}\n",
    "but $H(x)$ and $x$ are both nonzero, so we require\n",
    "\n",
    "\\begin{equation}\n",
    "    \\frac{d\\delta}{dx} = 0.\n",
    "\\end{equation}\n",
    "\n",
    "In the limit of small $x$ \n",
    "\n",
    "\\begin{equation}\n",
    "    \\delta(x) = (C_1 - 3C_2) - C_2\\ln\\Big(\\frac{x}{4}\\Big) + \\mathcal{O}(x),\n",
    "\\end{equation}\n",
    "\n",
    "therefore $C_1 = 1$, $C_2 = 0$."
   ]
  },
  {
   "cell_type": "code",
   "execution_count": 19,
   "metadata": {},
   "outputs": [],
   "source": [
    "def GrowthFactor(x, C1, C2):\n",
    "    \n",
    "    C1term1 =  (1+3/2*x)\n",
    "    C2term1 = (1+3/2*x)*np.log((np.sqrt(1+x)+1)/(np.sqrt(1+x)-1))\n",
    "    C2term2 =  - 3*np.sqrt(1+x)\n",
    "    \n",
    "    return C1*C1term1 + C2*(C2term1 + C2term2)"
   ]
  },
  {
   "cell_type": "code",
   "execution_count": 31,
   "metadata": {},
   "outputs": [
    {
     "name": "stdout",
     "output_type": "stream",
     "text": [
      "Max error in fit = 2.02%\n"
     ]
    },
    {
     "data": {
      "image/png": "[encoded data removed]",
      "text/plain": [
       "<Figure size 504x360 with 1 Axes>"
      ]
     },
     "metadata": {},
     "output_type": "display_data"
    }
   ],
   "source": [
    "C1 = 1; C2 = 0\n",
    "\n",
    "matplotlib.rc('font', size=17)\n",
    "def GrowthFactor(x, C1, C2):\n",
    "    \n",
    "    C1term1 =  (1+3/2*x)\n",
    "    C2term1 = (1+3/2*x)*np.log((np.sqrt(1+x)+1)/(np.sqrt(1+x)-1))\n",
    "    C2term2 =  - 3*np.sqrt(1+x)\n",
    "    \n",
    "    return C1*C1term1 + C2*(C2term1 + C2term2)\n",
    "\n",
    "# Calculate linear density\n",
    "DCol = GrowthFactor(xCol, C1, C2)\n",
    "philin = phis*DCol\n",
    "\n",
    "fig = plt.figure(figsize=(7,5))\n",
    "ax3 = fig.add_subplot(111)\n",
    "\n",
    "\n",
    "def PhiLinFit(phi, A):\n",
    "    return (1+A*phi**(-1))\n",
    "\n",
    "A = curve_fit(PhiLinFit, phis, philin/phis)[0][0]\n",
    "D = GrowthFactor(x, C1, C2)\n",
    "maxError = max(abs(philin - PhiLinFit(phis, A)*phis)/(philin))\n",
    "\n",
    "Thresh = A*D/(D-1)\n",
    "ax3.loglog(1/(x*a_eq)-1, Thresh,lw=3)\n",
    "\n",
    "# Asymtotic matter dom behaviour\n",
    "ax3.loglog([min(1/(x*a_eq)-1),max(1/(x*a_eq)-1)],[A, A],'k--')\n",
    "ax3.loglog([1/a_eq-1,1/a_eq-1],[1e-4,1e11],'k--', lw = 3)\n",
    "ax3.set_xlim([1e8, 1])\n",
    "ax3.set_ylim([1e-1, 1e5])\n",
    "ax3_text1 = \"$\\delta_{\\mathrm{thresh}}$ = \"; ax3_test2 = \" {:.4}\".format(A)\n",
    "ax3.annotate(ax3_text1 + ax3_test2, (1e7, 3e0))\n",
    "ax3.annotate(\"$z_{eq}$\", (2e3, 1e3),color = 'k')\n",
    "\n",
    "ax3.set_ylabel(\"Threshold Overdensity $\\delta_{\\mathrm{thresh}}$\")\n",
    "ax3.set_xlabel(\"Redshift $z$\")\n",
    "plt.tight_layout()\n",
    "print(\"Max error in fit = {:.3}%\".format(maxError*100))"
   ]
  },
  {
   "cell_type": "code",
   "execution_count": 33,
   "metadata": {},
   "outputs": [],
   "source": [
    "np.save(\"PeakPatch/m3p_merger/FinalGraphs/Data/DensityThreshold.npy\",[Thresh, 1/(x*a_eq)-1])"
   ]
  },
  {
   "cell_type": "markdown",
   "metadata": {},
   "source": [
    "Reducing $x_0$ by 2 orders of magnitude changes the calculated value of $A$ by around 0.02 %. That is, changing $x_0$ does not change the result."
   ]
  }
 ],
 "metadata": {
  "kernelspec": {
   "display_name": "Python 3",
   "language": "python",
   "name": "python3"
  },
  "language_info": {
   "codemirror_mode": {
    "name": "ipython",
    "version": 3
   },
   "file_extension": ".py",
   "mimetype": "text/x-python",
   "name": "python",
   "nbconvert_exporter": "python",
   "pygments_lexer": "ipython3",
   "version": "3.7.6"
  }
 },
 "nbformat": 4,
 "nbformat_minor": 2
}
