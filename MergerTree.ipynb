{
 "cells": [
  {
   "cell_type": "markdown",
   "metadata": {},
   "source": [
    "<center><h1>Making Merger Tree from m3p output</h1></center>"
   ]
  },
  {
   "cell_type": "code",
   "execution_count": 1,
   "metadata": {},
   "outputs": [],
   "source": [
    "import numpy as np\n",
    "import m3p_merger\n",
    "import matplotlib.pyplot as plt\n",
    "import importlib\n",
    "import matplotlib"
   ]
  },
  {
   "cell_type": "code",
   "execution_count": 2,
   "metadata": {},
   "outputs": [],
   "source": [
    "Omega_m0 = 0.3\n",
    "Omega_r0 = 8.486e-5\n",
    "h = 0.7\n",
    "\n",
    "G = 6.674e-11 # m^3 kg^(-1) s^(-2)\n",
    "Mpc = 3.086e22 # m \n",
    "Msol = 1.988e30 # kg\n",
    "Mpcpkm = (1e3/3.0869e22)\n",
    "H = 100*Mpcpkm*h # /s\n",
    "Omega_DM = 0.267\n",
    "\n",
    "rho_c = 3/(8*np.pi*G)*Mpc**3/Msol*H**2 # Msol / Mpc^(-3)\n",
    "rho_bg = 0.267*rho_c\n",
    "\n",
    "z_eq = Omega_m0/Omega_r0 - 1\n",
    "a_eq = 1/(1+z_eq)\n"
   ]
  },
  {
   "cell_type": "code",
   "execution_count": 3,
   "metadata": {},
   "outputs": [],
   "source": [
    "# Peak patch data\n",
    "pathPrefix = \"/usr/users/ellis/PeakPatch/m3p/axOut/\""
   ]
  },
  {
   "cell_type": "code",
   "execution_count": 4,
   "metadata": {},
   "outputs": [
    {
     "name": "stdout",
     "output_type": "stream",
     "text": [
      "\tLoading file (99 of 100): /usr/users/ellis/PeakPatch/m3p/axOut/manyredshifts/L6N3_07_many_final_halos_99.hdf5\n"
     ]
    }
   ],
   "source": [
    "#ppFile = pathPrefix + \"../inputs/inputs.ax1\"\n",
    "ppFile = pathPrefix + \"../inputs/inputs.ax_manyz\"\n",
    "\n",
    "peak_list, boxsize = m3p_merger.MakePeakList(ppFile, printOutput = True)"
   ]
  },
  {
   "cell_type": "code",
   "execution_count": 5,
   "metadata": {},
   "outputs": [
    {
     "data": {
      "text/plain": [
       "(5, 20408)"
      ]
     },
     "execution_count": 5,
     "metadata": {},
     "output_type": "execute_result"
    }
   ],
   "source": [
    "peak_list[0].shape"
   ]
  },
  {
   "cell_type": "markdown",
   "metadata": {},
   "source": [
    "<h2><center>Find which trees are interesting</center></h2>"
   ]
  },
  {
   "cell_type": "code",
   "execution_count": null,
   "metadata": {},
   "outputs": [],
   "source": [
    "out = m3p_merger.BuildMergerTree(peak_list, ppFile, final_halos_indicies = 'all')\n",
    "\n",
    "for i in range(len(out)):\n",
    "    if len(out[i][4]) > 1:\n",
    "        print(i, end = '* ')\n",
    "    else:\n",
    "        print(i, end = ' ')"
   ]
  },
  {
   "cell_type": "markdown",
   "metadata": {},
   "source": [
    "<h2><center>Calculate Merger Tree</center></h2>"
   ]
  },
  {
   "cell_type": "code",
   "execution_count": null,
   "metadata": {},
   "outputs": [],
   "source": [
    "importlib.reload(m3p_merger)\n",
    "#indicies = np.arange(1000)\n",
    "out = m3p_merger.BuildMergerTree(peak_list, ppFile, final_halos_indicies = 18420)"
   ]
  },
  {
   "cell_type": "markdown",
   "metadata": {},
   "source": [
    "<h2><center>Plot all peaks on each other</center></h2>"
   ]
  },
  {
   "cell_type": "code",
   "execution_count": null,
   "metadata": {},
   "outputs": [],
   "source": [
    "importlib.reload(m3p_merger)\n",
    "#out = m3p_merger.BuildMergerTree(peak_list, ppFile, final_halos_indicies = 797, printOutput = True)\n",
    "m3p_merger.plotMergerPatches(out[0], ppFile)"
   ]
  },
  {
   "cell_type": "markdown",
   "metadata": {},
   "source": [
    "<h2><center>Plot merger tree</center></h2>"
   ]
  },
  {
   "cell_type": "code",
   "execution_count": null,
   "metadata": {},
   "outputs": [],
   "source": [
    "importlib.reload(m3p_merger)\n",
    "m3p_merger.plotMergerTree(out[0], ppFile, font_size = 12, log = True)\n",
    "#plt.savefig(\"MergerTree.pdf\")"
   ]
  },
  {
   "cell_type": "code",
   "execution_count": null,
   "metadata": {},
   "outputs": [],
   "source": [
    "print(\"Linear = \", m3p_merger.FindCollapseRedshift(out[0], 0.01, ppFile, interp = \"Linear\", printOutput = True))\n",
    "print(\"None = \", m3p_merger.FindCollapseRedshift(out[0], 0.01, ppFile, interp = \"None\"))"
   ]
  },
  {
   "cell_type": "code",
   "execution_count": null,
   "metadata": {},
   "outputs": [],
   "source": [
    "importlib.reload(m3p_merger)\n",
    "# Calculate dependence of z_col on fraction f\n",
    "f = np.logspace(-2, np.log10(0.99))\n",
    "\n",
    "zcol = [m3p_merger.FindCollapseRedshift(out[0], f[i], ppFile, interp = \"Linear\") for i in range(len(f))]\n",
    "plt.semilogx(f, zcol, lw = 3)\n",
    "\n",
    "zcol = [m3p_merger.FindCollapseRedshift(out[0], f[i], ppFile, interp = \"None\") for i in range(len(f))]\n",
    "plt.semilogx(f, zcol, lw = 3)\n",
    "plt.ylabel(\"Collapse redshift $z_{\\mathrm{col}}$ \")\n",
    "plt.xlabel(\"$f$\")"
   ]
  },
  {
   "cell_type": "code",
   "execution_count": null,
   "metadata": {},
   "outputs": [],
   "source": [
    "importlib.reload(m3p_merger)\n",
    "\n",
    "print(\"Building peak list...\")\n",
    "peak_list, boxsize = m3p_merger.MakePeakList(ppFile, printOutput = True)\n",
    "print(\"Done.\\n\")\n",
    "\n",
    "print(\"Building merger trees...\")\n",
    "out = m3p_merger.BuildMergerTree(peak_list, ppFile, final_halos_indicies = \"all\", printOutput = True)\n",
    "print(\"Done.\\n\")\n",
    "\n",
    "print(\"Calculating collapse redshifts...\")\n",
    "collapse_redshifts = np.zeros(len(out))\n",
    "for i in range(len(out)):\n",
    "    collapse_redshifts[i] = m3p_merger.FindCollapseRedshift(out[i], 0.01, ppFile)\n",
    "print(\"Done.\\n\")\n",
    "\n",
    "print(\"Calculating final halo masses...\")\n",
    "masses = np.zeros(len(out))\n",
    "for i in range(len(out)):\n",
    "    masses[i] = out[i][0][0,4]\n",
    "print(\"Done.\\n\")\n",
    "\n",
    "# print(\"Saving data...\")\n",
    "# np.save(\"data/ax_manyz_CollapseRedshifts_f1em2\", collapse_redshifts)\n",
    "# np.save(\"data/ax_manyz_FinalMasses_f1em2\", masses)\n",
    "# print(\"Done.\\n\")"
   ]
  },
  {
   "cell_type": "code",
   "execution_count": null,
   "metadata": {},
   "outputs": [],
   "source": []
  },
  {
   "cell_type": "code",
   "execution_count": null,
   "metadata": {},
   "outputs": [],
   "source": [
    "plt.hist2d(np.log10(masses), np.log10(collapse_redshifts),bins = 30);"
   ]
  },
  {
   "cell_type": "code",
   "execution_count": null,
   "metadata": {},
   "outputs": [],
   "source": []
  }
 ],
 "metadata": {
  "kernelspec": {
   "display_name": "Python 3",
   "language": "python",
   "name": "python3"
  },
  "language_info": {
   "codemirror_mode": {
    "name": "ipython",
    "version": 3
   },
   "file_extension": ".py",
   "mimetype": "text/x-python",
   "name": "python",
   "nbconvert_exporter": "python",
   "pygments_lexer": "ipython3",
   "version": "3.7.3"
  }
 },
 "nbformat": 4,
 "nbformat_minor": 2
}
