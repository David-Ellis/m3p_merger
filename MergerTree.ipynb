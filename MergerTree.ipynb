{
 "cells": [
  {
   "cell_type": "markdown",
   "metadata": {},
   "source": [
    "<center><h1>Making Merger Tree from m3p output</h1></center>"
   ]
  },
  {
   "cell_type": "code",
   "execution_count": 1,
   "metadata": {},
   "outputs": [],
   "source": [
    "import numpy as np\n",
    "from m3p_merger import m3p_merger\n",
    "import matplotlib.pyplot as plt\n",
    "\n",
    "import sys\n",
    "\n",
    "sys.path.insert(0,r'..')\n",
    "from utils import ParamsFile, HaloReader\n"
   ]
  },
  {
   "cell_type": "markdown",
   "metadata": {},
   "source": [
    "### Define m3p data path\n",
    "\n",
    "This directory should contain a folder of m3p input files called 'inputs' and a folder of m3p output files called 'axOut'.\n",
    "\n",
    "We also define here the m3p inputs file for while we want to build our merger tree."
   ]
  },
  {
   "cell_type": "code",
   "execution_count": 21,
   "metadata": {},
   "outputs": [],
   "source": [
    "m3p_data_path = r\"C:\\Users\\david\\AxionData\\PeakPatch\\m3p_merger\"\n",
    "\n",
    "ppFile = \"inputs.ax_jan5_stitched\""
   ]
  },
  {
   "cell_type": "markdown",
   "metadata": {},
   "source": [
    "### Make list of all peaks\n",
    "MakePeakList returns 1D array of length equal to the number of redshift outputs and the comoving boxsize. Each element of the array is an additional array of all of the peak properties in *Lagrangian* (unperturbed) coordinates for a given redshift output.\n",
    "\n",
    "Each of these nested arrays stores the (x, y, z) coordinates [cMpc], radius [cMpc] and mass [Msol] of each peak. It therefore has a (5, N) shape where N is the number of peaks at this snapshot. \n",
    "\n",
    "For example: `peak_list[10][:,145]` will return the properties (x, y, z, radius, mass) for the 145th halo in the 10th redshift snapshot."
   ]
  },
  {
   "cell_type": "code",
   "execution_count": 22,
   "metadata": {},
   "outputs": [
    {
     "name": "stdout",
     "output_type": "stream",
     "text": [
      "\tLoading file (100 of 100): C:\\Users\\David\\AxionData/PeakPatch/m3p_merger/axOut/jan5/jan5_stitched_final_halos_99.hdf5\n"
     ]
    }
   ],
   "source": [
    "p = ParamsFile(m3p_data_path + \"\\inputs/\" + ppFile)\n",
    "redshifts = p[\"redshifts\"] \n",
    "\n",
    "peak_list, boxsize = m3p_merger.MakePeakList(ppFile, printOutput = True)"
   ]
  },
  {
   "cell_type": "markdown",
   "metadata": {},
   "source": [
    "## Num halo check\n",
    "\n",
    "We see that, as expected, the number of halos begins very small then rises as linearly evolved overdensities grow and the collapse threshold falls. The number of halos peaks at around matter-radiation equality and then falls again as these halos merge together into a smaller number of larger final halos."
   ]
  },
  {
   "cell_type": "code",
   "execution_count": 23,
   "metadata": {},
   "outputs": [
    {
     "data": {
      "text/plain": [
       "(1000000.0, 99.0)"
      ]
     },
     "execution_count": 23,
     "metadata": {},
     "output_type": "execute_result"
    },
    {
     "data": {
      "image/png": "[encoded data removed]",
      "text/plain": [
       "<Figure size 432x288 with 1 Axes>"
      ]
     },
     "metadata": {
      "needs_background": "light"
     },
     "output_type": "display_data"
    }
   ],
   "source": [
    "# Calculate number of peaks at each redshift\n",
    "numHalos = [len(peak_list[i][0]) for i in range(len(peak_list_main))]\n",
    "\n",
    "plt.semilogx(redshifts, numHalos, lw = 2)\n",
    "plt.xlim([max(redshifts), min(redshifts)])\n",
    "plt.xlabel(\"Redshift\")\n",
    "plt.ylabel(\"Number of halos\")"
   ]
  },
  {
   "cell_type": "markdown",
   "metadata": {},
   "source": [
    "### Total mass check\n",
    "\n",
    "We could similarly choose to look at the total mass of collapsed objects in our box\n"
   ]
  },
  {
   "cell_type": "code",
   "execution_count": 26,
   "metadata": {},
   "outputs": [
    {
     "data": {
      "text/plain": [
       "Text(0, 0.5, 'Total Mass [$M_{\\\\odot}$]')"
      ]
     },
     "execution_count": 26,
     "metadata": {},
     "output_type": "execute_result"
    },
    {
     "data": {
      "image/png": "[encoded data removed]",
      "text/plain": [
       "<Figure size 432x288 with 1 Axes>"
      ]
     },
     "metadata": {
      "needs_background": "light"
     },
     "output_type": "display_data"
    }
   ],
   "source": [
    "totalMass = [sum(peak_list[i][4,:]) for i in range(len(peak_list_main))]\n",
    "plt.semilogx(redshifts, totalMass, lw = 2)\n",
    "plt.xlim([max(redshifts), min(redshifts)])\n",
    "plt.xlabel(\"Redshift\")\n",
    "plt.ylabel(\"Total Mass [$M_{\\odot}$]\")"
   ]
  },
  {
   "cell_type": "code",
   "execution_count": 24,
   "metadata": {},
   "outputs": [],
   "source": [
    "out = m3p_merger.BuildMergerTree2(peak_list_main, ppFile, final_halos_indicies = 100)"
   ]
  },
  {
   "cell_type": "markdown",
   "metadata": {},
   "source": [
    "<h2><center>Find which trees are interesting</center></h2>"
   ]
  },
  {
   "cell_type": "code",
   "execution_count": 10,
   "metadata": {},
   "outputs": [
    {
     "name": "stdout",
     "output_type": "stream",
     "text": [
      "140 185 310 328 488 806 889 940 1025 1050 1119 1189 1201 1255 1366 1373 1388 1415 1469 1511 1590 1738 1903 1996 2153 2261 2278 2453 2517 2563 2664 2708 2713 2804 2898 2925 2941 2958 2981 3006 3034 3119 3154 3194 3243 3268 3436 3459 3461 3485 3522 3607 3731 3808 3846 3912 4162 4208 "
     ]
    }
   ],
   "source": [
    "for i in range(len(out)):\n",
    "    mass = out[i][0][0][-1]\n",
    "    mask = (mass>1e-12)*(mass<1e-11)\n",
    "    if mask:\n",
    "        print(i, end = ' ')\n",
    "    "
   ]
  },
  {
   "cell_type": "markdown",
   "metadata": {},
   "source": [
    "<h2><center>Calculate Merger Tree</center></h2>"
   ]
  },
  {
   "cell_type": "code",
   "execution_count": 60,
   "metadata": {},
   "outputs": [],
   "source": [
    "#peak_list_main, boxsize = m3p_merger.MakePeakList(ppFile,startIndex = 0, massType = \"unstripped\")\n",
    "out = m3p_merger.BuildMergerTree2(peak_list_main, ppFile, final_halos_indicies = 71781)\n",
    "#np.save(\"./FinalGraphs/Data/MergerTreeExample.npy\",out[0])"
   ]
  },
  {
   "cell_type": "markdown",
   "metadata": {},
   "source": [
    "<h2><center>Plot all peaks on each other</center></h2>"
   ]
  },
  {
   "cell_type": "code",
   "execution_count": 20,
   "metadata": {},
   "outputs": [],
   "source": [
    "#out = m3p_merger.BuildMergerTree(peak_list, ppFile, final_halos_indicies = 797, printOutput = True)\n",
    "#m3p_merger.plotMergerPatches(out[0], ppFile, cmap = \"viridis\")"
   ]
  },
  {
   "cell_type": "markdown",
   "metadata": {},
   "source": [
    "<h2><center>Plot merger tree</center></h2>"
   ]
  },
  {
   "cell_type": "code",
   "execution_count": null,
   "metadata": {},
   "outputs": [],
   "source": [
    "importlib.reload(m3p_merger)\n",
    "ppFile = \"findDwarfs/inputs.ax_findDwarfs_stitched\"\n",
    "max_mass = None#5e-11\n",
    "max_radius = None # 5e-8\n",
    "\n",
    "indicies = [71781]\n",
    "\n",
    "for index in indicies:\n",
    "    # Plot merger tree using 'unstripped' mass\n",
    "    peak_list_main, boxsize = m3p_merger.MakePeakList(ppFile, massType = \"unstripped\")\n",
    "    out2 = m3p_merger.BuildMergerTree2(peak_list_main, ppFile, final_halos_indicies = index)\n",
    "    fig = m3p_merger.plotMergerTree(out2[0], ppFile, font_size = 16, log = True,\n",
    "                              colorbar=True, colorbar_title = \"Mass [$M_{\\odot}$]\",\n",
    "                                    min_mass=1e-15,max_mass = max_mass, \n",
    "                                    max_radius = max_radius, cmap = \"plasma_r\")\n",
    "    plt.show()\n",
    "#np.save(\"./FinalGraphs/Data/MergerTreeExample.npy\",out2)"
   ]
  },
  {
   "cell_type": "markdown",
   "metadata": {},
   "source": [
    "<h3>Checking Progenitor mass calculation</h3>"
   ]
  },
  {
   "cell_type": "code",
   "execution_count": 30,
   "metadata": {},
   "outputs": [
    {
     "data": {
      "text/plain": [
       "Text(0.5, 0, 'Redshift, $z$')"
      ]
     },
     "execution_count": 30,
     "metadata": {},
     "output_type": "execute_result"
    },
    {
     "data": {
      "image/png": "[encoded data removed]",
      "text/plain": [
       "<Figure size 432x288 with 1 Axes>"
      ]
     },
     "metadata": {
      "needs_background": "light"
     },
     "output_type": "display_data"
    }
   ],
   "source": [
    "importlib.reload(m3p_merger)\n",
    "ppFile = \"inputs.ax_stitched\"\n",
    "\n",
    "halo_index = 2\n",
    "\n",
    "f = 0.01\n",
    "\n",
    "peak_list_main, boxsize = m3p_merger.MakePeakList(ppFile,startIndex = 0, massType = \"unstripped\")\n",
    "out = m3p_merger.BuildMergerTree2(peak_list_main, ppFile, final_halos_indicies = halo_index)\n",
    "zCol, ProgMass, z = m3p_merger.FindCollapseRedshift(out[0], f, ppFile,startIndex = 0, interp = \"None\")\n",
    "plt.semilogx(z, ProgMass, 'r.', ms=6, label =\"method 2\")\n",
    "\n",
    "plt.legend(loc=2)\n",
    "plt.xlim(max(z), min(z))\n",
    "plt.ylabel(\"Prog Mass [$M_{\\odot}$]\")\n",
    "plt.xlabel(\"Redshift, $z$\")\n",
    "\n",
    "#np.save(\"./FinalGraphs/Data/MassGrowth.npy\", [z, ProgMass, zCol])"
   ]
  },
  {
   "cell_type": "code",
   "execution_count": 18,
   "metadata": {},
   "outputs": [
    {
     "data": {
      "text/plain": [
       "array([2.9541017e-10, 3.1697510e-07, 2.7916261e-07, 2.2761135e-09,\n",
       "       4.2784176e-15], dtype=float32)"
      ]
     },
     "execution_count": 18,
     "metadata": {},
     "output_type": "execute_result"
    }
   ],
   "source": [
    "peak_list_main[0][:,0]"
   ]
  },
  {
   "cell_type": "code",
   "execution_count": null,
   "metadata": {},
   "outputs": [],
   "source": []
  }
 ],
 "metadata": {
  "kernelspec": {
   "display_name": "Python 3",
   "language": "python",
   "name": "python3"
  },
  "language_info": {
   "codemirror_mode": {
    "name": "ipython",
    "version": 3
   },
   "file_extension": ".py",
   "mimetype": "text/x-python",
   "name": "python",
   "nbconvert_exporter": "python",
   "pygments_lexer": "ipython3",
   "version": "3.8.8"
  }
 },
 "nbformat": 4,
 "nbformat_minor": 4
}
