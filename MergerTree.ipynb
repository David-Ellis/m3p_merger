{
 "cells": [
  {
   "cell_type": "markdown",
   "metadata": {},
   "source": [
    "<center><h1>Making Merger Tree from m3p output</h1></center>"
   ]
  },
  {
   "cell_type": "code",
   "execution_count": 1,
   "metadata": {},
   "outputs": [
    {
     "data": {
      "text/plain": [
       "<module 'm3p_merger' from 'C:\\\\Users\\\\David\\\\Google Drive\\\\Axion PhD\\\\PeakPatch\\\\m3p_merger\\\\m3p_merger.py'>"
      ]
     },
     "execution_count": 1,
     "metadata": {},
     "output_type": "execute_result"
    }
   ],
   "source": [
    "import numpy as np\n",
    "import m3p_merger\n",
    "import matplotlib.pyplot as plt\n",
    "import importlib\n",
    "import matplotlib\n",
    "importlib.reload(m3p_merger)"
   ]
  },
  {
   "cell_type": "code",
   "execution_count": 2,
   "metadata": {},
   "outputs": [],
   "source": [
    "Omega_m0 = 0.3\n",
    "Omega_r0 = 8.486e-5\n",
    "h = 0.7\n",
    "\n",
    "G = 6.674e-11 # m^3 kg^(-1) s^(-2)\n",
    "Mpc = 3.086e22 # m \n",
    "Msol = 1.988e30 # kg\n",
    "Mpcpkm = (1e3/3.0869e22)\n",
    "H = 100*Mpcpkm*h # /s\n",
    "Omega_DM = 0.267\n",
    "\n",
    "rho_c = 3/(8*np.pi*G)*Mpc**3/Msol*H**2 # Msol / Mpc^(-3)\n",
    "rho_bg = 0.267*rho_c\n",
    "\n",
    "z_eq = Omega_m0/Omega_r0 - 1\n",
    "a_eq = 1/(1+z_eq)\n"
   ]
  },
  {
   "cell_type": "code",
   "execution_count": 24,
   "metadata": {},
   "outputs": [
    {
     "name": "stdout",
     "output_type": "stream",
     "text": [
      "\tLoading file (1 of 109): axOut/big3/axion_big3final_halos_0.hdf5\r",
      "\tLoading file (2 of 109): axOut/big3/axion_big3final_halos_1.hdf5\r",
      "\tLoading file (3 of 109): axOut/big3/axion_big3final_halos_2.hdf5\r",
      "\tLoading file (4 of 109): axOut/big3/axion_big3final_halos_3.hdf5\r",
      "\tLoading file (5 of 109): axOut/big3/axion_big3final_halos_4.hdf5\r",
      "\tLoading file (6 of 109): axOut/big3/axion_big3final_halos_5.hdf5\r",
      "\tLoading file (7 of 109): axOut/big3/axion_big3final_halos_6.hdf5\r",
      "\tLoading file (8 of 109): axOut/big3/axion_big3final_halos_7.hdf5\r",
      "\tLoading file (9 of 109): axOut/big3/axion_big3final_halos_8.hdf5\r",
      "\tLoading file (10 of 109): axOut/big3/axion_big3final_halos_9.hdf5\r",
      "\tLoading file (11 of 109): axOut/big3/axion_big3final_halos_10.hdf5\r",
      "\tLoading file (12 of 109): axOut/big3/axion_big3final_halos_11.hdf5\r",
      "\tLoading file (13 of 109): axOut/big3/axion_big3final_halos_12.hdf5\r",
      "\tLoading file (14 of 109): axOut/big3/axion_big3final_halos_13.hdf5\r",
      "\tLoading file (15 of 109): axOut/big3/axion_big3final_halos_14.hdf5\r",
      "\tLoading file (16 of 109): axOut/big3/axion_big3final_halos_15.hdf5\r",
      "\tLoading file (17 of 109): axOut/big3/axion_big3final_halos_16.hdf5\r",
      "\tLoading file (18 of 109): axOut/big3/axion_big3final_halos_17.hdf5\r",
      "\tLoading file (19 of 109): axOut/big3/axion_big3final_halos_18.hdf5\r",
      "\tLoading file (20 of 109): axOut/big3/axion_big3final_halos_19.hdf5\r",
      "\tLoading file (21 of 109): axOut/big3/axion_big3final_halos_20.hdf5\r",
      "\tLoading file (22 of 109): axOut/big3/axion_big3final_halos_21.hdf5\r",
      "\tLoading file (23 of 109): axOut/big3/axion_big3final_halos_22.hdf5\r",
      "\tLoading file (24 of 109): axOut/big3/axion_big3final_halos_23.hdf5\r",
      "\tLoading file (25 of 109): axOut/big3/axion_big3final_halos_24.hdf5\r",
      "\tLoading file (26 of 109): axOut/big3/axion_big3final_halos_25.hdf5\r",
      "\tLoading file (27 of 109): axOut/big3/axion_big3final_halos_26.hdf5\r",
      "\tLoading file (28 of 109): axOut/big3/axion_big3final_halos_27.hdf5\r",
      "\tLoading file (29 of 109): axOut/big3/axion_big3final_halos_28.hdf5\r",
      "\tLoading file (30 of 109): axOut/big3/axion_big3final_halos_29.hdf5\r",
      "\tLoading file (31 of 109): axOut/big3/axion_big3final_halos_30.hdf5\r",
      "\tLoading file (32 of 109): axOut/big3/axion_big3final_halos_31.hdf5\r",
      "\tLoading file (33 of 109): axOut/big3/axion_big3final_halos_32.hdf5\r",
      "\tLoading file (34 of 109): axOut/big3/axion_big3final_halos_33.hdf5\r",
      "\tLoading file (35 of 109): axOut/big3/axion_big3final_halos_34.hdf5\r",
      "\tLoading file (36 of 109): axOut/big3/axion_big3final_halos_35.hdf5"
     ]
    },
    {
     "name": "stderr",
     "output_type": "stream",
     "text": [
      "C:\\Users\\David\\Google Drive\\Axion PhD\\PeakPatch\\m3p_merger\\utils.py:14: H5pyDeprecationWarning: The default file mode will change to 'r' (read-only) in h5py 3.0. To suppress this warning, pass the mode you need to h5py.File(), or set the global default h5.get_config().default_file_mode, or set the environment variable H5PY_DEFAULT_READONLY=1. Available modes are: 'r', 'r+', 'w', 'w-'/'x', 'a'. See the docs for details.\n",
      "  with h5py.File(fname) as f:\n"
     ]
    },
    {
     "name": "stdout",
     "output_type": "stream",
     "text": [
      "\tLoading file (109 of 109): axOut/big3/axion_big3final_halos_108.hdf5\n"
     ]
    }
   ],
   "source": [
    "#ppFile = pathPrefix+\"../inputs/\"+\"inputs.ax_manyz\"\n",
    "ppFile = \"inputs.axbig_manyz3\"\n",
    "peak_list_main, boxsize = m3p_merger.MakePeakList(ppFile,startIndex = 0, printOutput = True)"
   ]
  },
  {
   "cell_type": "code",
   "execution_count": 5,
   "metadata": {},
   "outputs": [
    {
     "data": {
      "text/plain": [
       "(109,)"
      ]
     },
     "execution_count": 5,
     "metadata": {},
     "output_type": "execute_result"
    }
   ],
   "source": [
    "peak_list.shape"
   ]
  },
  {
   "cell_type": "markdown",
   "metadata": {},
   "source": [
    "<h2><center>Find which trees are interesting</center></h2>"
   ]
  },
  {
   "cell_type": "code",
   "execution_count": 25,
   "metadata": {},
   "outputs": [],
   "source": [
    "out = m3p_merger.BuildMergerTree(peak_list_main, ppFile, redshift_indicies='all')"
   ]
  },
  {
   "cell_type": "code",
   "execution_count": 26,
   "metadata": {},
   "outputs": [
    {
     "name": "stdout",
     "output_type": "stream",
     "text": [
      "30 63 120 153 403 443 451 592 600 637 960 1281 1290 1556 1647 1696 1760 1776 1791 1914 1917 2038 2080 2273 2379 2453 2455 2552 2652 2676 2707 2735 2821 2923 3017 3046 3140 3151 3248 3305 3395 3571 3572 3616 3668 3695 3720 3723 3729 3836 3841 3842 3860 3907 3937 3993 4026 4066 4112 4124 4140 4159 4167 4361 4395 4428 4514 4530 4553 4593 4605 4722 4816 4835 4859 4984 5075 5117 5143 5263 5451 5464 5556 5624 5730 5773 5855 5914 5915 5960 6027 6029 6134 6312 6605 6637 6719 6914 6921 7176 7289 7297 7428 7485 7635 7642 7660 7723 7724 7861 7877 7914 7956 7985 8013 8064 8072 8073 8301 8405 8482 8496 8529 8584 8591 8635 8681 8709 8720 8743 8777 8812 8833 9009 9030 9046 9054 9058 9304 9315 9316 9467 9534 9573 9606 9678 9691 9694 9750 9889 9970 10080 10114 10129 10154 10196 10214 10233 10239 10250 10268 10363 10443 10697 10758 10794 10817 10916 11014 11058 11070 11102 11138 11148 11162 11457 11588 11598 11731 11837 11873 11886 11950 12049 12083 12084 12242 12275 12276 12289 12310 12354 12411 12436 12449 12491 12573 12611 12650 12659 12694 12746 12849 12899 13000 13003 13012 13061 13062 13177 13236 13248 13267 13272 13293 13322 13364 13470 13485 13486 13541 13572 13579 13607 13619 13637 13642 13650 13666 13734 13789 13829 13905 13974 13988 14013 14051 14191 14201 14226 14309 14484 14550 14613 14664 14670 14673 14747 14816 14867 15027 15050 15104 15128 15346 15347 15365 15381 15538 15539 15661 15664 15671 15680 15735 15739 15845 15856 15927 15982 16005 16041 16053 16063 16149 16203 16280 16318 16414 16479 16480 16552 16779 16793 16818 16875 16936 16954 17012 17054 17098 17101 17160 17205 17272 17305 17326 17340 17475 17483 17498 17572 17584 17605 17634 17672 17820 17832 17891 17919 17976 18000 18078 18128 18135 18292 18374 18638 18640 18645 18658 18664 "
     ]
    }
   ],
   "source": [
    "for i in range(len(out)):\n",
    "    mass = out[i][0][0][-1]\n",
    "    mask = (mass>1e-12)*(mass<1e-11)\n",
    "    if mask:\n",
    "        print(i, end = ' ')\n",
    "    "
   ]
  },
  {
   "cell_type": "markdown",
   "metadata": {},
   "source": [
    "<h2><center>Calculate Merger Tree</center></h2>"
   ]
  },
  {
   "cell_type": "code",
   "execution_count": 20,
   "metadata": {},
   "outputs": [],
   "source": [
    "importlib.reload(m3p_merger)\n",
    "#indicies = np.arange(1000)\n",
    "out = m3p_merger.BuildMergerTree2(peak_list_main, ppFile, final_halos_indicies = 437)\n",
    "np.save(\"./FinalGraphs/Data/MergerTreeExample.npy\",out[0])"
   ]
  },
  {
   "cell_type": "code",
   "execution_count": 126,
   "metadata": {},
   "outputs": [],
   "source": [
    "importlib.reload(m3p_merger)\n",
    "out2 = m3p_merger.BuildMergerTree2(peak_list_main, ppFile, final_halos_indicies = 437)"
   ]
  },
  {
   "cell_type": "markdown",
   "metadata": {},
   "source": [
    "<h2><center>Plot all peaks on each other</center></h2>"
   ]
  },
  {
   "cell_type": "code",
   "execution_count": 113,
   "metadata": {},
   "outputs": [
    {
     "data": {
      "image/png": "[encoded data removed]",
      "text/plain": [
       "<Figure size 792x360 with 2 Axes>"
      ]
     },
     "metadata": {
      "needs_background": "light"
     },
     "output_type": "display_data"
    }
   ],
   "source": [
    "importlib.reload(m3p_merger)\n",
    "#out = m3p_merger.BuildMergerTree(peak_list, ppFile, final_halos_indicies = 797, printOutput = True)\n",
    "m3p_merger.plotMergerPatches(out2[0][::10], ppFile, cmap = \"viridis\")"
   ]
  },
  {
   "cell_type": "markdown",
   "metadata": {},
   "source": [
    "<h2><center>Plot merger tree</center></h2>"
   ]
  },
  {
   "cell_type": "code",
   "execution_count": 21,
   "metadata": {},
   "outputs": [
    {
     "ename": "KeyboardInterrupt",
     "evalue": "",
     "output_type": "error",
     "traceback": [
      "\u001b[1;31m---------------------------------------------------------------------------\u001b[0m",
      "\u001b[1;31mKeyboardInterrupt\u001b[0m                         Traceback (most recent call last)",
      "\u001b[1;32m<ipython-input-21-b73598be5371>\u001b[0m in \u001b[0;36m<module>\u001b[1;34m\u001b[0m\n\u001b[0;32m      9\u001b[0m \u001b[1;31m# plt.show()\u001b[0m\u001b[1;33m\u001b[0m\u001b[1;33m\u001b[0m\u001b[1;33m\u001b[0m\u001b[0m\n\u001b[0;32m     10\u001b[0m \u001b[1;33m\u001b[0m\u001b[0m\n\u001b[1;32m---> 11\u001b[1;33m \u001b[0mout2\u001b[0m \u001b[1;33m=\u001b[0m \u001b[0mm3p_merger\u001b[0m\u001b[1;33m.\u001b[0m\u001b[0mBuildMergerTree2\u001b[0m\u001b[1;33m(\u001b[0m\u001b[0mpeak_list_main\u001b[0m\u001b[1;33m,\u001b[0m \u001b[0mppFile\u001b[0m\u001b[1;33m,\u001b[0m \u001b[0mfinal_halos_indicies\u001b[0m \u001b[1;33m=\u001b[0m \u001b[0mindex\u001b[0m\u001b[1;33m)\u001b[0m\u001b[1;33m\u001b[0m\u001b[1;33m\u001b[0m\u001b[0m\n\u001b[0m\u001b[0;32m     12\u001b[0m fig = m3p_merger.plotMergerTree(out2[0][::5], ppFile, startIndex=0, font_size = 16, log = True,\n\u001b[0;32m     13\u001b[0m                           colorbar=True, colorbar_title = \"Mass [$M_{\\odot}$]\")\n",
      "\u001b[1;32m~\\Google Drive\\Axion PhD\\PeakPatch\\m3p_merger\\m3p_merger.py\u001b[0m in \u001b[0;36mBuildMergerTree2\u001b[1;34m(peak_list, pp_file, redshift_indicies, final_halos_indicies, printOutput)\u001b[0m\n\u001b[0;32m    382\u001b[0m         \u001b[0mprint\u001b[0m\u001b[1;33m(\u001b[0m\u001b[1;34m\"\\ti.e. Earlist halo at z = {}\"\u001b[0m\u001b[1;33m.\u001b[0m\u001b[0mformat\u001b[0m\u001b[1;33m(\u001b[0m\u001b[0mp\u001b[0m\u001b[1;33m[\u001b[0m\u001b[1;34m\"redshifts\"\u001b[0m\u001b[1;33m]\u001b[0m\u001b[1;33m[\u001b[0m\u001b[0mmax\u001b[0m\u001b[1;33m(\u001b[0m\u001b[0mredshift_indicies\u001b[0m\u001b[1;33m)\u001b[0m\u001b[1;33m]\u001b[0m\u001b[1;33m)\u001b[0m\u001b[1;33m)\u001b[0m\u001b[1;33m\u001b[0m\u001b[1;33m\u001b[0m\u001b[0m\n\u001b[0;32m    383\u001b[0m \u001b[1;33m\u001b[0m\u001b[0m\n\u001b[1;32m--> 384\u001b[1;33m     \u001b[0mtrees\u001b[0m \u001b[1;33m=\u001b[0m \u001b[1;33m[\u001b[0m\u001b[0mcKDTree\u001b[0m\u001b[1;33m(\u001b[0m\u001b[0mpeak_list\u001b[0m\u001b[1;33m[\u001b[0m\u001b[0mi\u001b[0m\u001b[1;33m]\u001b[0m\u001b[1;33m[\u001b[0m\u001b[1;36m0\u001b[0m\u001b[1;33m:\u001b[0m\u001b[1;36m3\u001b[0m\u001b[1;33m]\u001b[0m\u001b[1;33m.\u001b[0m\u001b[0mT\u001b[0m\u001b[1;33m,\u001b[0m \u001b[0mboxsize\u001b[0m \u001b[1;33m=\u001b[0m \u001b[0mboxsize\u001b[0m\u001b[1;33m)\u001b[0m \u001b[1;32mfor\u001b[0m \u001b[0mi\u001b[0m \u001b[1;32min\u001b[0m \u001b[0mredshift_indicies\u001b[0m\u001b[1;33m]\u001b[0m\u001b[1;33m\u001b[0m\u001b[1;33m\u001b[0m\u001b[0m\n\u001b[0m\u001b[0;32m    385\u001b[0m \u001b[1;33m\u001b[0m\u001b[0m\n\u001b[0;32m    386\u001b[0m     \u001b[1;32mif\u001b[0m \u001b[0mfinal_halos_indicies\u001b[0m \u001b[1;33m==\u001b[0m \u001b[1;34m'all'\u001b[0m\u001b[1;33m:\u001b[0m\u001b[1;33m\u001b[0m\u001b[1;33m\u001b[0m\u001b[0m\n",
      "\u001b[1;32m~\\Google Drive\\Axion PhD\\PeakPatch\\m3p_merger\\m3p_merger.py\u001b[0m in \u001b[0;36m<listcomp>\u001b[1;34m(.0)\u001b[0m\n\u001b[0;32m    382\u001b[0m         \u001b[0mprint\u001b[0m\u001b[1;33m(\u001b[0m\u001b[1;34m\"\\ti.e. Earlist halo at z = {}\"\u001b[0m\u001b[1;33m.\u001b[0m\u001b[0mformat\u001b[0m\u001b[1;33m(\u001b[0m\u001b[0mp\u001b[0m\u001b[1;33m[\u001b[0m\u001b[1;34m\"redshifts\"\u001b[0m\u001b[1;33m]\u001b[0m\u001b[1;33m[\u001b[0m\u001b[0mmax\u001b[0m\u001b[1;33m(\u001b[0m\u001b[0mredshift_indicies\u001b[0m\u001b[1;33m)\u001b[0m\u001b[1;33m]\u001b[0m\u001b[1;33m)\u001b[0m\u001b[1;33m)\u001b[0m\u001b[1;33m\u001b[0m\u001b[1;33m\u001b[0m\u001b[0m\n\u001b[0;32m    383\u001b[0m \u001b[1;33m\u001b[0m\u001b[0m\n\u001b[1;32m--> 384\u001b[1;33m     \u001b[0mtrees\u001b[0m \u001b[1;33m=\u001b[0m \u001b[1;33m[\u001b[0m\u001b[0mcKDTree\u001b[0m\u001b[1;33m(\u001b[0m\u001b[0mpeak_list\u001b[0m\u001b[1;33m[\u001b[0m\u001b[0mi\u001b[0m\u001b[1;33m]\u001b[0m\u001b[1;33m[\u001b[0m\u001b[1;36m0\u001b[0m\u001b[1;33m:\u001b[0m\u001b[1;36m3\u001b[0m\u001b[1;33m]\u001b[0m\u001b[1;33m.\u001b[0m\u001b[0mT\u001b[0m\u001b[1;33m,\u001b[0m \u001b[0mboxsize\u001b[0m \u001b[1;33m=\u001b[0m \u001b[0mboxsize\u001b[0m\u001b[1;33m)\u001b[0m \u001b[1;32mfor\u001b[0m \u001b[0mi\u001b[0m \u001b[1;32min\u001b[0m \u001b[0mredshift_indicies\u001b[0m\u001b[1;33m]\u001b[0m\u001b[1;33m\u001b[0m\u001b[1;33m\u001b[0m\u001b[0m\n\u001b[0m\u001b[0;32m    385\u001b[0m \u001b[1;33m\u001b[0m\u001b[0m\n\u001b[0;32m    386\u001b[0m     \u001b[1;32mif\u001b[0m \u001b[0mfinal_halos_indicies\u001b[0m \u001b[1;33m==\u001b[0m \u001b[1;34m'all'\u001b[0m\u001b[1;33m:\u001b[0m\u001b[1;33m\u001b[0m\u001b[1;33m\u001b[0m\u001b[0m\n",
      "\u001b[1;31mKeyboardInterrupt\u001b[0m: "
     ]
    }
   ],
   "source": [
    "importlib.reload(m3p_merger)\n",
    "ppFile = \"inputs.axbig_manyz3\"\n",
    "\n",
    "index = 437\n",
    "\n",
    "# out = m3p_merger.BuildMergerTree(peak_list_main, ppFile, final_halos_indicies = index)\n",
    "# fig = m3p_merger.plotMergerTree(out[0][::5], ppFile, startIndex=0, font_size = 16, log = True,\n",
    "#                           colorbar=True, colorbar_title = \"Mass [$M_{\\odot}$]\")\n",
    "# plt.show()\n",
    "\n",
    "out2 = m3p_merger.BuildMergerTree2(peak_list_main, ppFile, final_halos_indicies = index)\n",
    "fig = m3p_merger.plotMergerTree(out2[0][::5], ppFile, startIndex=0, font_size = 16, log = True,\n",
    "                          colorbar=True, colorbar_title = \"Mass [$M_{\\odot}$]\")"
   ]
  },
  {
   "cell_type": "markdown",
   "metadata": {},
   "source": [
    "<h3>Checking Linear Interpolation</h3>"
   ]
  },
  {
   "cell_type": "code",
   "execution_count": 22,
   "metadata": {},
   "outputs": [
    {
     "data": {
      "image/png": "[encoded data removed]",
      "text/plain": [
       "<Figure size 432x288 with 1 Axes>"
      ]
     },
     "metadata": {
      "needs_background": "light"
     },
     "output_type": "display_data"
    }
   ],
   "source": [
    "importlib.reload(m3p_merger)\n",
    "\n",
    "halo_index = 437#index\n",
    "f = 0.01\n",
    "\n",
    "out = m3p_merger.BuildMergerTree(peak_list_main, ppFile, final_halos_indicies = halo_index)\n",
    "#zColLin, ProgMassLin, zLin = m3p_merger.FindCollapseRedshift(out[0], f, ppFile,startIndex = 25, interp = \"Linear\")\n",
    "zCol, ProgMass, z = m3p_merger.FindCollapseRedshift(out[0], f, ppFile,startIndex = 0, interp = \"None\")\n",
    "plt.semilogx(z, ProgMass, 'bo', ms=6, label = \"method 1\")\n",
    "\n",
    "#plt.semilogx([zColLin, zColLin], [0,ProgMassLin[0]],'k-')\n",
    "plt.semilogx([zCol, zCol], [0,ProgMass[0]],'b-')\n",
    "\n",
    "#plt.xlim(1e4, z[0])\n",
    "\n",
    "out = m3p_merger.BuildMergerTree2(peak_list_main, ppFile, final_halos_indicies = halo_index)\n",
    "zCol, ProgMass, z = m3p_merger.FindCollapseRedshift(out[0], f, ppFile,startIndex = 0, interp = \"None\")\n",
    "plt.semilogx(z, ProgMass, 'r.', ms=6, label =\"method 2\")\n",
    "\n",
    "plt.semilogx([zCol, zCol], [0,ProgMass[0]],'r--')\n",
    "\n",
    "plt.legend(loc=1)\n",
    "plt.xlim(max(z), min(z))\n",
    "\n",
    "\n",
    "np.save(\"./FinalGraphs/Data/MassGrowth.npy\", [z, ProgMass, zCol])"
   ]
  },
  {
   "cell_type": "code",
   "execution_count": 49,
   "metadata": {},
   "outputs": [
    {
     "name": "stdout",
     "output_type": "stream",
     "text": [
      "----------------------------------------\n",
      "Calculating collapse redshifts\n",
      "   ppFile: inputs.axbig_manyz3\n",
      "   z0=99.0\n",
      "\n",
      "Building peak list...\n",
      "\tLoading file (109 of 109): axOut/big3/axion_big3final_halos_108.hdf5\n",
      "Done.\n",
      "\n",
      "Building merger trees...\n",
      "\tFinal redshift index 108 out of 109\n",
      "\ti.e. Earlist halo at z = 1000000.0\n",
      "\tHalo 8069 of 18697: 79 complete of 1088\r"
     ]
    },
    {
     "ename": "KeyboardInterrupt",
     "evalue": "",
     "output_type": "error",
     "traceback": [
      "\u001b[1;31m---------------------------------------------------------------------------\u001b[0m",
      "\u001b[1;31mKeyboardInterrupt\u001b[0m                         Traceback (most recent call last)",
      "\u001b[1;32m<ipython-input-49-364c6a94333b>\u001b[0m in \u001b[0;36m<module>\u001b[1;34m\u001b[0m\n\u001b[0;32m     16\u001b[0m \u001b[1;33m\u001b[0m\u001b[0m\n\u001b[0;32m     17\u001b[0m     \u001b[0mprint\u001b[0m\u001b[1;33m(\u001b[0m\u001b[1;34m\"Building merger trees...\"\u001b[0m\u001b[1;33m)\u001b[0m\u001b[1;33m\u001b[0m\u001b[1;33m\u001b[0m\u001b[0m\n\u001b[1;32m---> 18\u001b[1;33m     \u001b[0mout\u001b[0m \u001b[1;33m=\u001b[0m \u001b[0mm3p_merger\u001b[0m\u001b[1;33m.\u001b[0m\u001b[0mBuildMergerTree2\u001b[0m\u001b[1;33m(\u001b[0m\u001b[0mpeak_list\u001b[0m\u001b[1;33m,\u001b[0m \u001b[0mppFile\u001b[0m\u001b[1;33m,\u001b[0m \u001b[0mfinal_halos_indicies\u001b[0m \u001b[1;33m=\u001b[0m \u001b[1;34m\"all\"\u001b[0m\u001b[1;33m,\u001b[0m \u001b[0mprintOutput\u001b[0m \u001b[1;33m=\u001b[0m \u001b[1;32mTrue\u001b[0m\u001b[1;33m)\u001b[0m\u001b[1;33m\u001b[0m\u001b[1;33m\u001b[0m\u001b[0m\n\u001b[0m\u001b[0;32m     19\u001b[0m     \u001b[0mprint\u001b[0m\u001b[1;33m(\u001b[0m\u001b[1;34m\"Done.\\n\"\u001b[0m\u001b[1;33m)\u001b[0m\u001b[1;33m\u001b[0m\u001b[1;33m\u001b[0m\u001b[0m\n\u001b[0;32m     20\u001b[0m \u001b[1;33m\u001b[0m\u001b[0m\n",
      "\u001b[1;32m~\\Google Drive\\Axion PhD\\PeakPatch\\m3p_merger\\m3p_merger.py\u001b[0m in \u001b[0;36mBuildMergerTree2\u001b[1;34m(peak_list, pp_file, redshift_indicies, final_halos_indicies, printOutput)\u001b[0m\n\u001b[0;32m    450\u001b[0m                 \u001b[1;31m# print progress\u001b[0m\u001b[1;33m\u001b[0m\u001b[1;33m\u001b[0m\u001b[1;33m\u001b[0m\u001b[0m\n\u001b[0;32m    451\u001b[0m                 print(\"\\tHalo {} of {}: {} complete of {}\".format(hi,len(final_halos_indicies), \n\u001b[1;32m--> 452\u001b[1;33m                                                                   ri+1, len(redshift_indicies[:-1])), end = '\\r')\n\u001b[0m\u001b[0;32m    453\u001b[0m         \u001b[0mmerger_trees\u001b[0m\u001b[1;33m[\u001b[0m\u001b[0mhi\u001b[0m\u001b[1;33m]\u001b[0m \u001b[1;33m=\u001b[0m \u001b[0mpeaks\u001b[0m\u001b[1;33m\u001b[0m\u001b[1;33m\u001b[0m\u001b[0m\n\u001b[0;32m    454\u001b[0m     \u001b[1;32mif\u001b[0m \u001b[0mprintOutput\u001b[0m \u001b[1;33m==\u001b[0m \u001b[1;32mTrue\u001b[0m\u001b[1;33m:\u001b[0m\u001b[1;33m\u001b[0m\u001b[1;33m\u001b[0m\u001b[0m\n",
      "\u001b[1;32m~\\anaconda3\\lib\\site-packages\\ipykernel\\iostream.py\u001b[0m in \u001b[0;36mwrite\u001b[1;34m(self, string)\u001b[0m\n\u001b[0;32m    400\u001b[0m             \u001b[0mis_child\u001b[0m \u001b[1;33m=\u001b[0m \u001b[1;33m(\u001b[0m\u001b[1;32mnot\u001b[0m \u001b[0mself\u001b[0m\u001b[1;33m.\u001b[0m\u001b[0m_is_master_process\u001b[0m\u001b[1;33m(\u001b[0m\u001b[1;33m)\u001b[0m\u001b[1;33m)\u001b[0m\u001b[1;33m\u001b[0m\u001b[1;33m\u001b[0m\u001b[0m\n\u001b[0;32m    401\u001b[0m             \u001b[1;31m# only touch the buffer in the IO thread to avoid races\u001b[0m\u001b[1;33m\u001b[0m\u001b[1;33m\u001b[0m\u001b[1;33m\u001b[0m\u001b[0m\n\u001b[1;32m--> 402\u001b[1;33m             \u001b[0mself\u001b[0m\u001b[1;33m.\u001b[0m\u001b[0mpub_thread\u001b[0m\u001b[1;33m.\u001b[0m\u001b[0mschedule\u001b[0m\u001b[1;33m(\u001b[0m\u001b[1;32mlambda\u001b[0m \u001b[1;33m:\u001b[0m \u001b[0mself\u001b[0m\u001b[1;33m.\u001b[0m\u001b[0m_buffer\u001b[0m\u001b[1;33m.\u001b[0m\u001b[0mwrite\u001b[0m\u001b[1;33m(\u001b[0m\u001b[0mstring\u001b[0m\u001b[1;33m)\u001b[0m\u001b[1;33m)\u001b[0m\u001b[1;33m\u001b[0m\u001b[1;33m\u001b[0m\u001b[0m\n\u001b[0m\u001b[0;32m    403\u001b[0m             \u001b[1;32mif\u001b[0m \u001b[0mis_child\u001b[0m\u001b[1;33m:\u001b[0m\u001b[1;33m\u001b[0m\u001b[1;33m\u001b[0m\u001b[0m\n\u001b[0;32m    404\u001b[0m                 \u001b[1;31m# newlines imply flush in subprocesses\u001b[0m\u001b[1;33m\u001b[0m\u001b[1;33m\u001b[0m\u001b[1;33m\u001b[0m\u001b[0m\n",
      "\u001b[1;32m~\\anaconda3\\lib\\site-packages\\ipykernel\\iostream.py\u001b[0m in \u001b[0;36mschedule\u001b[1;34m(self, f)\u001b[0m\n\u001b[0;32m    203\u001b[0m             \u001b[0mself\u001b[0m\u001b[1;33m.\u001b[0m\u001b[0m_events\u001b[0m\u001b[1;33m.\u001b[0m\u001b[0mappend\u001b[0m\u001b[1;33m(\u001b[0m\u001b[0mf\u001b[0m\u001b[1;33m)\u001b[0m\u001b[1;33m\u001b[0m\u001b[1;33m\u001b[0m\u001b[0m\n\u001b[0;32m    204\u001b[0m             \u001b[1;31m# wake event thread (message content is ignored)\u001b[0m\u001b[1;33m\u001b[0m\u001b[1;33m\u001b[0m\u001b[1;33m\u001b[0m\u001b[0m\n\u001b[1;32m--> 205\u001b[1;33m             \u001b[0mself\u001b[0m\u001b[1;33m.\u001b[0m\u001b[0m_event_pipe\u001b[0m\u001b[1;33m.\u001b[0m\u001b[0msend\u001b[0m\u001b[1;33m(\u001b[0m\u001b[1;34mb''\u001b[0m\u001b[1;33m)\u001b[0m\u001b[1;33m\u001b[0m\u001b[1;33m\u001b[0m\u001b[0m\n\u001b[0m\u001b[0;32m    206\u001b[0m         \u001b[1;32melse\u001b[0m\u001b[1;33m:\u001b[0m\u001b[1;33m\u001b[0m\u001b[1;33m\u001b[0m\u001b[0m\n\u001b[0;32m    207\u001b[0m             \u001b[0mf\u001b[0m\u001b[1;33m(\u001b[0m\u001b[1;33m)\u001b[0m\u001b[1;33m\u001b[0m\u001b[1;33m\u001b[0m\u001b[0m\n",
      "\u001b[1;32m~\\anaconda3\\lib\\site-packages\\zmq\\sugar\\socket.py\u001b[0m in \u001b[0;36msend\u001b[1;34m(self, data, flags, copy, track, routing_id, group)\u001b[0m\n\u001b[0;32m    398\u001b[0m                                  copy_threshold=self.copy_threshold)\n\u001b[0;32m    399\u001b[0m             \u001b[0mdata\u001b[0m\u001b[1;33m.\u001b[0m\u001b[0mgroup\u001b[0m \u001b[1;33m=\u001b[0m \u001b[0mgroup\u001b[0m\u001b[1;33m\u001b[0m\u001b[1;33m\u001b[0m\u001b[0m\n\u001b[1;32m--> 400\u001b[1;33m         \u001b[1;32mreturn\u001b[0m \u001b[0msuper\u001b[0m\u001b[1;33m(\u001b[0m\u001b[0mSocket\u001b[0m\u001b[1;33m,\u001b[0m \u001b[0mself\u001b[0m\u001b[1;33m)\u001b[0m\u001b[1;33m.\u001b[0m\u001b[0msend\u001b[0m\u001b[1;33m(\u001b[0m\u001b[0mdata\u001b[0m\u001b[1;33m,\u001b[0m \u001b[0mflags\u001b[0m\u001b[1;33m=\u001b[0m\u001b[0mflags\u001b[0m\u001b[1;33m,\u001b[0m \u001b[0mcopy\u001b[0m\u001b[1;33m=\u001b[0m\u001b[0mcopy\u001b[0m\u001b[1;33m,\u001b[0m \u001b[0mtrack\u001b[0m\u001b[1;33m=\u001b[0m\u001b[0mtrack\u001b[0m\u001b[1;33m)\u001b[0m\u001b[1;33m\u001b[0m\u001b[1;33m\u001b[0m\u001b[0m\n\u001b[0m\u001b[0;32m    401\u001b[0m \u001b[1;33m\u001b[0m\u001b[0m\n\u001b[0;32m    402\u001b[0m     \u001b[1;32mdef\u001b[0m \u001b[0msend_multipart\u001b[0m\u001b[1;33m(\u001b[0m\u001b[0mself\u001b[0m\u001b[1;33m,\u001b[0m \u001b[0mmsg_parts\u001b[0m\u001b[1;33m,\u001b[0m \u001b[0mflags\u001b[0m\u001b[1;33m=\u001b[0m\u001b[1;36m0\u001b[0m\u001b[1;33m,\u001b[0m \u001b[0mcopy\u001b[0m\u001b[1;33m=\u001b[0m\u001b[1;32mTrue\u001b[0m\u001b[1;33m,\u001b[0m \u001b[0mtrack\u001b[0m\u001b[1;33m=\u001b[0m\u001b[1;32mFalse\u001b[0m\u001b[1;33m,\u001b[0m \u001b[1;33m**\u001b[0m\u001b[0mkwargs\u001b[0m\u001b[1;33m)\u001b[0m\u001b[1;33m:\u001b[0m\u001b[1;33m\u001b[0m\u001b[1;33m\u001b[0m\u001b[0m\n",
      "\u001b[1;32mzmq/backend/cython/socket.pyx\u001b[0m in \u001b[0;36mzmq.backend.cython.socket.Socket.send\u001b[1;34m()\u001b[0m\n",
      "\u001b[1;32mzmq/backend/cython/socket.pyx\u001b[0m in \u001b[0;36mzmq.backend.cython.socket.Socket.send\u001b[1;34m()\u001b[0m\n",
      "\u001b[1;32mzmq/backend/cython/socket.pyx\u001b[0m in \u001b[0;36mzmq.backend.cython.socket._send_copy\u001b[1;34m()\u001b[0m\n",
      "\u001b[1;32m~\\anaconda3\\lib\\site-packages\\zmq\\backend\\cython\\checkrc.pxd\u001b[0m in \u001b[0;36mzmq.backend.cython.checkrc._check_rc\u001b[1;34m()\u001b[0m\n",
      "\u001b[1;31mKeyboardInterrupt\u001b[0m: "
     ]
    }
   ],
   "source": [
    "importlib.reload(m3p_merger)\n",
    "ppFile = \"inputs.axbig_manyz3\"\n",
    "\n",
    "frac = 0.01\n",
    "startIndicies = [0]\n",
    "\n",
    "for i, startIndex in enumerate(startIndicies):  \n",
    "    z0 = 99.0\n",
    "    \n",
    "    print(\"-\"*40)\n",
    "    print(\"Calculating collapse redshifts\\n   ppFile: {}\\n   z0={:.3}\\n\".format(ppFile, z0))\n",
    "    \n",
    "    print(\"Building peak list...\")\n",
    "    peak_list, boxsize = m3p_merger.MakePeakList(ppFile, startIndex = startIndex, printOutput = True)\n",
    "    print(\"Done.\\n\")\n",
    "\n",
    "    print(\"Building merger trees...\")\n",
    "    out = m3p_merger.BuildMergerTree2(peak_list, ppFile, final_halos_indicies = \"all\", printOutput = True)\n",
    "    print(\"Done.\\n\")\n",
    "\n",
    "    print(\"Calculating collapse redshifts...\")\n",
    "    collapse_redshifts = np.zeros(len(out))\n",
    "    for i in range(len(out)):\n",
    "        collapse_redshifts[i] = m3p_merger.FindCollapseRedshift(out[i], frac, ppFile, interp = \"None\")[0]\n",
    "    print(\"Done.\\n\")\n",
    "\n",
    "    print(\"Fetching final halo masses...\")\n",
    "    masses = np.zeros(len(out))\n",
    "    for i in range(len(out)):\n",
    "        masses[i] = out[i][0][0,4]\n",
    "    print(\"Done.\\n\")\n",
    "\n",
    "    print(\"Fetching final halo radii...\")\n",
    "    radii = np.zeros(len(out))\n",
    "    for i in range(len(out)):\n",
    "        radii[i] = out[i][0][0,3]\n",
    "    print(\"Done.\\n\")\n",
    "\n",
    "    print(\"Saving data...\")\n",
    "    np.save(\"ConcEvolution/axbig3_manyz_CollapseRedshifts_z0_{}\".format(z0), collapse_redshifts)\n",
    "    np.save(\"ConcEvolution/axbig3_manyz_FinalMasses_z0_{}\".format(z0), masses)\n",
    "    np.save(\"ConcEvolution/axbig3_manyz_FinalRadii_z0_{}\".format(z0), radii)\n",
    "    print(\"Done.\\n\")"
   ]
  },
  {
   "cell_type": "code",
   "execution_count": null,
   "metadata": {},
   "outputs": [],
   "source": []
  }
 ],
 "metadata": {
  "kernelspec": {
   "display_name": "Python 3",
   "language": "python",
   "name": "python3"
  },
  "language_info": {
   "codemirror_mode": {
    "name": "ipython",
    "version": 3
   },
   "file_extension": ".py",
   "mimetype": "text/x-python",
   "name": "python",
   "nbconvert_exporter": "python",
   "pygments_lexer": "ipython3",
   "version": "3.7.6"
  }
 },
 "nbformat": 4,
 "nbformat_minor": 2
}
